{
 "cells": [
  {
   "cell_type": "code",
   "execution_count": 1,
   "id": "87070d90",
   "metadata": {},
   "outputs": [],
   "source": [
    "import pandas as pd\n",
    "import time\n",
    "from sklearn.model_selection import train_test_split\n",
    "from sklearn.feature_extraction.text import TfidfVectorizer\n",
    "import xgboost as xgb\n",
    "from catboost import CatBoostClassifier\n",
    "from sklearn.linear_model import LogisticRegression\n",
    "from sklearn import svm\n",
    "from sklearn.metrics import f1_score\n",
    "from sklearn import metrics"
   ]
  },
  {
   "cell_type": "code",
   "execution_count": 2,
   "id": "278798f6",
   "metadata": {},
   "outputs": [],
   "source": [
    "cleaned_data = pd.read_csv(\"D:/4th_SEMESTER/5._DMT/J-Comp/cleaned_data3.csv\")"
   ]
  },
  {
   "cell_type": "code",
   "execution_count": 3,
   "id": "0a2b38f9",
   "metadata": {},
   "outputs": [
    {
     "data": {
      "text/html": [
       "<div>\n",
       "<style scoped>\n",
       "    .dataframe tbody tr th:only-of-type {\n",
       "        vertical-align: middle;\n",
       "    }\n",
       "\n",
       "    .dataframe tbody tr th {\n",
       "        vertical-align: top;\n",
       "    }\n",
       "\n",
       "    .dataframe thead th {\n",
       "        text-align: right;\n",
       "    }\n",
       "</style>\n",
       "<table border=\"1\" class=\"dataframe\">\n",
       "  <thead>\n",
       "    <tr style=\"text-align: right;\">\n",
       "      <th></th>\n",
       "      <th>reviewerID</th>\n",
       "      <th>reviewText</th>\n",
       "      <th>clean_reviewText</th>\n",
       "      <th>clean_summary</th>\n",
       "      <th>rating_class</th>\n",
       "    </tr>\n",
       "  </thead>\n",
       "  <tbody>\n",
       "    <tr>\n",
       "      <th>0</th>\n",
       "      <td>A3LDPF5FMB782Z</td>\n",
       "      <td>The Nook tablet is a great color e-reader with...</td>\n",
       "      <td>tablet great color e-reader bonus able read em...</td>\n",
       "      <td>great color e-reader extra feature</td>\n",
       "      <td>good</td>\n",
       "    </tr>\n",
       "    <tr>\n",
       "      <th>1</th>\n",
       "      <td>A2AEZQ3DGBBLPR</td>\n",
       "      <td>I bought this repair kit so I could watch a re...</td>\n",
       "      <td>repair kit could watch movie quite scratch ski...</td>\n",
       "      <td>create new scratch didn fix old ones</td>\n",
       "      <td>bad</td>\n",
       "    </tr>\n",
       "    <tr>\n",
       "      <th>2</th>\n",
       "      <td>ATY86XH2DJ4ZH</td>\n",
       "      <td>I am not an audiophile, but I do care about th...</td>\n",
       "      <td>not audiophile care sound hear headset last we...</td>\n",
       "      <td>not really noise cancel headset</td>\n",
       "      <td>bad</td>\n",
       "    </tr>\n",
       "    <tr>\n",
       "      <th>3</th>\n",
       "      <td>A2ATP6ZTCPX1QX</td>\n",
       "      <td>I'm not one to complain much but I hate old pr...</td>\n",
       "      <td>not one complain much hate old products mix ne...</td>\n",
       "      <td>take old products .</td>\n",
       "      <td>bad</td>\n",
       "    </tr>\n",
       "    <tr>\n",
       "      <th>4</th>\n",
       "      <td>A3QPWNKTUC8N2B</td>\n",
       "      <td>I bought this ereader and the Amazon Kindle er...</td>\n",
       "      <td>ereader amazon kindle ereader time could compa...</td>\n",
       "      <td>favorite ereader</td>\n",
       "      <td>good</td>\n",
       "    </tr>\n",
       "  </tbody>\n",
       "</table>\n",
       "</div>"
      ],
      "text/plain": [
       "       reviewerID                                         reviewText  \\\n",
       "0  A3LDPF5FMB782Z  The Nook tablet is a great color e-reader with...   \n",
       "1  A2AEZQ3DGBBLPR  I bought this repair kit so I could watch a re...   \n",
       "2   ATY86XH2DJ4ZH  I am not an audiophile, but I do care about th...   \n",
       "3  A2ATP6ZTCPX1QX  I'm not one to complain much but I hate old pr...   \n",
       "4  A3QPWNKTUC8N2B  I bought this ereader and the Amazon Kindle er...   \n",
       "\n",
       "                                    clean_reviewText  \\\n",
       "0  tablet great color e-reader bonus able read em...   \n",
       "1  repair kit could watch movie quite scratch ski...   \n",
       "2  not audiophile care sound hear headset last we...   \n",
       "3  not one complain much hate old products mix ne...   \n",
       "4  ereader amazon kindle ereader time could compa...   \n",
       "\n",
       "                          clean_summary rating_class  \n",
       "0    great color e-reader extra feature         good  \n",
       "1  create new scratch didn fix old ones          bad  \n",
       "2       not really noise cancel headset          bad  \n",
       "3                   take old products .          bad  \n",
       "4                      favorite ereader         good  "
      ]
     },
     "execution_count": 3,
     "metadata": {},
     "output_type": "execute_result"
    }
   ],
   "source": [
    "cleaned_data.head(5)"
   ]
  },
  {
   "cell_type": "code",
   "execution_count": 4,
   "id": "7c3c66c2",
   "metadata": {},
   "outputs": [],
   "source": [
    "cleaned_data[\"rating_class\"] = cleaned_data[\"rating_class\"].apply(lambda x: 1 if x==\"good\" else 0)"
   ]
  },
  {
   "cell_type": "code",
   "execution_count": 5,
   "id": "4319a0d9",
   "metadata": {},
   "outputs": [
    {
     "data": {
      "text/html": [
       "<div>\n",
       "<style scoped>\n",
       "    .dataframe tbody tr th:only-of-type {\n",
       "        vertical-align: middle;\n",
       "    }\n",
       "\n",
       "    .dataframe tbody tr th {\n",
       "        vertical-align: top;\n",
       "    }\n",
       "\n",
       "    .dataframe thead th {\n",
       "        text-align: right;\n",
       "    }\n",
       "</style>\n",
       "<table border=\"1\" class=\"dataframe\">\n",
       "  <thead>\n",
       "    <tr style=\"text-align: right;\">\n",
       "      <th></th>\n",
       "      <th>reviewerID</th>\n",
       "      <th>reviewText</th>\n",
       "      <th>clean_reviewText</th>\n",
       "      <th>clean_summary</th>\n",
       "      <th>rating_class</th>\n",
       "    </tr>\n",
       "  </thead>\n",
       "  <tbody>\n",
       "    <tr>\n",
       "      <th>0</th>\n",
       "      <td>A3LDPF5FMB782Z</td>\n",
       "      <td>The Nook tablet is a great color e-reader with...</td>\n",
       "      <td>tablet great color e-reader bonus able read em...</td>\n",
       "      <td>great color e-reader extra feature</td>\n",
       "      <td>1</td>\n",
       "    </tr>\n",
       "    <tr>\n",
       "      <th>1</th>\n",
       "      <td>A2AEZQ3DGBBLPR</td>\n",
       "      <td>I bought this repair kit so I could watch a re...</td>\n",
       "      <td>repair kit could watch movie quite scratch ski...</td>\n",
       "      <td>create new scratch didn fix old ones</td>\n",
       "      <td>0</td>\n",
       "    </tr>\n",
       "    <tr>\n",
       "      <th>2</th>\n",
       "      <td>ATY86XH2DJ4ZH</td>\n",
       "      <td>I am not an audiophile, but I do care about th...</td>\n",
       "      <td>not audiophile care sound hear headset last we...</td>\n",
       "      <td>not really noise cancel headset</td>\n",
       "      <td>0</td>\n",
       "    </tr>\n",
       "    <tr>\n",
       "      <th>3</th>\n",
       "      <td>A2ATP6ZTCPX1QX</td>\n",
       "      <td>I'm not one to complain much but I hate old pr...</td>\n",
       "      <td>not one complain much hate old products mix ne...</td>\n",
       "      <td>take old products .</td>\n",
       "      <td>0</td>\n",
       "    </tr>\n",
       "    <tr>\n",
       "      <th>4</th>\n",
       "      <td>A3QPWNKTUC8N2B</td>\n",
       "      <td>I bought this ereader and the Amazon Kindle er...</td>\n",
       "      <td>ereader amazon kindle ereader time could compa...</td>\n",
       "      <td>favorite ereader</td>\n",
       "      <td>1</td>\n",
       "    </tr>\n",
       "  </tbody>\n",
       "</table>\n",
       "</div>"
      ],
      "text/plain": [
       "       reviewerID                                         reviewText  \\\n",
       "0  A3LDPF5FMB782Z  The Nook tablet is a great color e-reader with...   \n",
       "1  A2AEZQ3DGBBLPR  I bought this repair kit so I could watch a re...   \n",
       "2   ATY86XH2DJ4ZH  I am not an audiophile, but I do care about th...   \n",
       "3  A2ATP6ZTCPX1QX  I'm not one to complain much but I hate old pr...   \n",
       "4  A3QPWNKTUC8N2B  I bought this ereader and the Amazon Kindle er...   \n",
       "\n",
       "                                    clean_reviewText  \\\n",
       "0  tablet great color e-reader bonus able read em...   \n",
       "1  repair kit could watch movie quite scratch ski...   \n",
       "2  not audiophile care sound hear headset last we...   \n",
       "3  not one complain much hate old products mix ne...   \n",
       "4  ereader amazon kindle ereader time could compa...   \n",
       "\n",
       "                          clean_summary  rating_class  \n",
       "0    great color e-reader extra feature             1  \n",
       "1  create new scratch didn fix old ones             0  \n",
       "2       not really noise cancel headset             0  \n",
       "3                   take old products .             0  \n",
       "4                      favorite ereader             1  "
      ]
     },
     "execution_count": 5,
     "metadata": {},
     "output_type": "execute_result"
    }
   ],
   "source": [
    "cleaned_data.head(5)"
   ]
  },
  {
   "cell_type": "code",
   "execution_count": 6,
   "id": "40c19280",
   "metadata": {},
   "outputs": [],
   "source": [
    "Y = cleaned_data[\"rating_class\"]\n",
    "X = cleaned_data[\"clean_reviewText\"]"
   ]
  },
  {
   "cell_type": "code",
   "execution_count": 7,
   "id": "f8eafcd2",
   "metadata": {},
   "outputs": [],
   "source": [
    "tfidf_vect = TfidfVectorizer(ngram_range=(1, 3))\n",
    "X_tfidf = tfidf_vect.fit_transform(X.values.astype(\"U\"))\n",
    "X_tfidf  = X_tfidf.toarray()"
   ]
  },
  {
   "cell_type": "code",
   "execution_count": 8,
   "id": "bb58ee97",
   "metadata": {},
   "outputs": [],
   "source": [
    "from sklearn.feature_selection import SelectKBest\n",
    "from sklearn.feature_selection import f_classif\n",
    "\n",
    "selectK = SelectKBest(f_classif, k=1000)\n",
    "selectK.fit(X_tfidf, Y)\n",
    "X_sel = selectK.transform(X_tfidf)"
   ]
  },
  {
   "cell_type": "code",
   "execution_count": 9,
   "id": "a8fd71b7",
   "metadata": {},
   "outputs": [],
   "source": [
    "tfidf_vect_train, tfidf_vect_test, Y_train, Y_test = train_test_split(X_sel, Y, test_size=0.2, random_state=42,shuffle=True, stratify = Y)"
   ]
  },
  {
   "cell_type": "code",
   "execution_count": 10,
   "id": "da4917a9",
   "metadata": {},
   "outputs": [
    {
     "name": "stderr",
     "output_type": "stream",
     "text": [
      "C:\\Users\\Acer\\anaconda3\\envs\\tf\\lib\\site-packages\\xgboost\\sklearn.py:793: UserWarning: `eval_metric` in `fit` method is deprecated for better compatibility with scikit-learn, use `eval_metric` in constructor or`set_params` instead.\n",
      "  warnings.warn(\n",
      "C:\\Users\\Acer\\anaconda3\\envs\\tf\\lib\\site-packages\\xgboost\\sklearn.py:793: UserWarning: `early_stopping_rounds` in `fit` method is deprecated for better compatibility with scikit-learn, use `early_stopping_rounds` in constructor or`set_params` instead.\n",
      "  warnings.warn(\n"
     ]
    },
    {
     "name": "stdout",
     "output_type": "stream",
     "text": [
      "[13:27:50] WARNING: C:/Users/Administrator/workspace/xgboost-win64_release_1.6.0/src/learner.cc:627: \n",
      "Parameters: { \"feature_selector\", \"top_k\" } might not be used.\n",
      "\n",
      "  This could be a false alarm, with some parameters getting used by language bindings but\n",
      "  then being mistakenly passed down to XGBoost core, or some parameter actually being used\n",
      "  but getting flagged wrongly here. Please open an issue if you find any such cases.\n",
      "\n",
      "\n",
      "[0]\tvalidation_0-aucpr:0.83510\tvalidation_0-error:0.25000\tvalidation_1-aucpr:0.67662\tvalidation_1-error:0.37000\n",
      "[1]\tvalidation_0-aucpr:0.87495\tvalidation_0-error:0.21750\tvalidation_1-aucpr:0.68103\tvalidation_1-error:0.33500\n",
      "[2]\tvalidation_0-aucpr:0.90410\tvalidation_0-error:0.18125\tvalidation_1-aucpr:0.74417\tvalidation_1-error:0.31500\n",
      "[3]\tvalidation_0-aucpr:0.91533\tvalidation_0-error:0.17625\tvalidation_1-aucpr:0.77476\tvalidation_1-error:0.33000\n",
      "[4]\tvalidation_0-aucpr:0.92209\tvalidation_0-error:0.16000\tvalidation_1-aucpr:0.81028\tvalidation_1-error:0.30000\n",
      "[5]\tvalidation_0-aucpr:0.93335\tvalidation_0-error:0.15625\tvalidation_1-aucpr:0.81860\tvalidation_1-error:0.30500\n",
      "[6]\tvalidation_0-aucpr:0.94025\tvalidation_0-error:0.13625\tvalidation_1-aucpr:0.84938\tvalidation_1-error:0.25000\n",
      "[7]\tvalidation_0-aucpr:0.94295\tvalidation_0-error:0.13625\tvalidation_1-aucpr:0.84815\tvalidation_1-error:0.25500\n",
      "[8]\tvalidation_0-aucpr:0.94633\tvalidation_0-error:0.12875\tvalidation_1-aucpr:0.85006\tvalidation_1-error:0.26000\n",
      "[9]\tvalidation_0-aucpr:0.94895\tvalidation_0-error:0.13125\tvalidation_1-aucpr:0.84585\tvalidation_1-error:0.25500\n",
      "[10]\tvalidation_0-aucpr:0.95133\tvalidation_0-error:0.12500\tvalidation_1-aucpr:0.84850\tvalidation_1-error:0.24500\n",
      "[11]\tvalidation_0-aucpr:0.95584\tvalidation_0-error:0.12250\tvalidation_1-aucpr:0.85329\tvalidation_1-error:0.22500\n",
      "[12]\tvalidation_0-aucpr:0.95680\tvalidation_0-error:0.12500\tvalidation_1-aucpr:0.85665\tvalidation_1-error:0.23500\n",
      "[13]\tvalidation_0-aucpr:0.95969\tvalidation_0-error:0.12125\tvalidation_1-aucpr:0.86176\tvalidation_1-error:0.23500\n",
      "[14]\tvalidation_0-aucpr:0.96191\tvalidation_0-error:0.11500\tvalidation_1-aucpr:0.87657\tvalidation_1-error:0.22000\n",
      "[15]\tvalidation_0-aucpr:0.96160\tvalidation_0-error:0.11250\tvalidation_1-aucpr:0.88006\tvalidation_1-error:0.22000\n",
      "[16]\tvalidation_0-aucpr:0.96326\tvalidation_0-error:0.10375\tvalidation_1-aucpr:0.88627\tvalidation_1-error:0.20500\n",
      "[17]\tvalidation_0-aucpr:0.96493\tvalidation_0-error:0.10125\tvalidation_1-aucpr:0.88502\tvalidation_1-error:0.21000\n",
      "[18]\tvalidation_0-aucpr:0.96644\tvalidation_0-error:0.10125\tvalidation_1-aucpr:0.88555\tvalidation_1-error:0.20500\n",
      "[19]\tvalidation_0-aucpr:0.96683\tvalidation_0-error:0.10250\tvalidation_1-aucpr:0.88012\tvalidation_1-error:0.21500\n",
      "[20]\tvalidation_0-aucpr:0.96709\tvalidation_0-error:0.10250\tvalidation_1-aucpr:0.88480\tvalidation_1-error:0.22500\n",
      "[21]\tvalidation_0-aucpr:0.96839\tvalidation_0-error:0.09750\tvalidation_1-aucpr:0.88471\tvalidation_1-error:0.23500\n",
      "[22]\tvalidation_0-aucpr:0.96896\tvalidation_0-error:0.09625\tvalidation_1-aucpr:0.89109\tvalidation_1-error:0.23000\n",
      "[23]\tvalidation_0-aucpr:0.97000\tvalidation_0-error:0.09750\tvalidation_1-aucpr:0.89333\tvalidation_1-error:0.22000\n",
      "[24]\tvalidation_0-aucpr:0.97132\tvalidation_0-error:0.09500\tvalidation_1-aucpr:0.89219\tvalidation_1-error:0.22500\n",
      "[25]\tvalidation_0-aucpr:0.97192\tvalidation_0-error:0.09125\tvalidation_1-aucpr:0.89216\tvalidation_1-error:0.23000\n",
      "[26]\tvalidation_0-aucpr:0.97265\tvalidation_0-error:0.08750\tvalidation_1-aucpr:0.89123\tvalidation_1-error:0.23500\n",
      "[27]\tvalidation_0-aucpr:0.97368\tvalidation_0-error:0.09000\tvalidation_1-aucpr:0.88888\tvalidation_1-error:0.23000\n",
      "[28]\tvalidation_0-aucpr:0.97356\tvalidation_0-error:0.09000\tvalidation_1-aucpr:0.89253\tvalidation_1-error:0.23500\n",
      "[29]\tvalidation_0-aucpr:0.97457\tvalidation_0-error:0.08750\tvalidation_1-aucpr:0.89370\tvalidation_1-error:0.22000\n",
      "[30]\tvalidation_0-aucpr:0.97499\tvalidation_0-error:0.08500\tvalidation_1-aucpr:0.89557\tvalidation_1-error:0.23000\n",
      "[31]\tvalidation_0-aucpr:0.97553\tvalidation_0-error:0.08750\tvalidation_1-aucpr:0.89450\tvalidation_1-error:0.22000\n",
      "[32]\tvalidation_0-aucpr:0.97602\tvalidation_0-error:0.08750\tvalidation_1-aucpr:0.89572\tvalidation_1-error:0.22000\n",
      "[33]\tvalidation_0-aucpr:0.97669\tvalidation_0-error:0.08500\tvalidation_1-aucpr:0.89533\tvalidation_1-error:0.22500\n",
      "[34]\tvalidation_0-aucpr:0.97672\tvalidation_0-error:0.08375\tvalidation_1-aucpr:0.89467\tvalidation_1-error:0.22000\n",
      "[35]\tvalidation_0-aucpr:0.97741\tvalidation_0-error:0.08250\tvalidation_1-aucpr:0.89341\tvalidation_1-error:0.21000\n"
     ]
    }
   ],
   "source": [
    "model = xgb.XGBClassifier(objective = 'binary:logistic',feature_selector= 'thrifty',top_k = '600',n_estimators=100, learning_rate =0.20, max_depth = 30,min_child_weight= 5,gamma = 0.5,colsample_bytree = 0.4)\n",
    "t0 = time.time()\n",
    "eval_s = [(tfidf_vect_train, Y_train), (tfidf_vect_test, Y_test)]\n",
    "model.fit(tfidf_vect_train, Y_train, eval_metric=[\"aucpr\",\"error\"], verbose=True, eval_set = eval_s, early_stopping_rounds=20)\n",
    "t1 = time.time()\n",
    "xg_Ypred = model.predict(tfidf_vect_test)\n",
    "t2 = time.time()\n",
    "xg_time_linear_train = t1-t0\n",
    "xg_time_linear_predict = t2-t1\n",
    "xg_f1Score = f1_score(Y_test, xg_Ypred, average = \"weighted\")"
   ]
  },
  {
   "cell_type": "code",
   "execution_count": 11,
   "id": "2c500460",
   "metadata": {},
   "outputs": [
    {
     "name": "stdout",
     "output_type": "stream",
     "text": [
      "Training time: 1.306629s; Prediction time: 0.013963s\n"
     ]
    }
   ],
   "source": [
    "print(\"Training time: %fs; Prediction time: %fs\" % (xg_time_linear_train, xg_time_linear_predict))"
   ]
  },
  {
   "cell_type": "code",
   "execution_count": 12,
   "id": "227732eb",
   "metadata": {},
   "outputs": [
    {
     "data": {
      "text/plain": [
       "<AxesSubplot:>"
      ]
     },
     "execution_count": 12,
     "metadata": {},
     "output_type": "execute_result"
    },
    {
     "data": {
      "image/png": "[encoded data removed]",
      "text/plain": [
       "<Figure size 432x288 with 2 Axes>"
      ]
     },
     "metadata": {
      "needs_background": "light"
     },
     "output_type": "display_data"
    }
   ],
   "source": [
    "import seaborn as sns\n",
    "import numpy as np \n",
    "\n",
    "cf_matrix = metrics.confusion_matrix(Y_test, xg_Ypred)\n",
    "group_names = ['True Neg','False Pos','False Neg','True Pos']\n",
    "# group_counts = ['{0:0.0f}'.format(value) for value in\n",
    "#                 cf_matrix.flatten()]\n",
    "group_percentages = ['{0:.2%}'.format(value) for value in\n",
    "                     cf_matrix.flatten()/np.sum(cf_matrix)]\n",
    "labels = [f\"{v1}\\n{v3}\" for v1, v3 in\n",
    "          zip(group_names,group_percentages)]\n",
    "labels = np.asarray(labels).reshape(2,2)\n",
    "sns.heatmap(cf_matrix, annot=labels, fmt='', cmap='Blues')"
   ]
  },
  {
   "cell_type": "code",
   "execution_count": 13,
   "id": "2b5c4b7f",
   "metadata": {},
   "outputs": [
    {
     "data": {
      "text/plain": [
       "0.7948717948717949"
      ]
     },
     "execution_count": 13,
     "metadata": {},
     "output_type": "execute_result"
    }
   ],
   "source": [
    "xg_f1Score"
   ]
  },
  {
   "cell_type": "code",
   "execution_count": 14,
   "id": "62e41be0",
   "metadata": {},
   "outputs": [
    {
     "name": "stdout",
     "output_type": "stream",
     "text": [
      "0:\tlearn: 0.6717023\ttotal: 174ms\tremaining: 52.2s\n",
      "1:\tlearn: 0.6434781\ttotal: 194ms\tremaining: 29s\n",
      "2:\tlearn: 0.6209286\ttotal: 214ms\tremaining: 21.2s\n",
      "3:\tlearn: 0.6011621\ttotal: 234ms\tremaining: 17.3s\n",
      "4:\tlearn: 0.5821043\ttotal: 253ms\tremaining: 14.9s\n",
      "5:\tlearn: 0.5701937\ttotal: 273ms\tremaining: 13.4s\n",
      "6:\tlearn: 0.5494151\ttotal: 295ms\tremaining: 12.3s\n",
      "7:\tlearn: 0.5350778\ttotal: 315ms\tremaining: 11.5s\n",
      "8:\tlearn: 0.5174455\ttotal: 334ms\tremaining: 10.8s\n",
      "9:\tlearn: 0.5043019\ttotal: 354ms\tremaining: 10.3s\n",
      "10:\tlearn: 0.4922540\ttotal: 375ms\tremaining: 9.85s\n",
      "11:\tlearn: 0.4840741\ttotal: 394ms\tremaining: 9.46s\n",
      "12:\tlearn: 0.4755271\ttotal: 413ms\tremaining: 9.13s\n",
      "13:\tlearn: 0.4675709\ttotal: 432ms\tremaining: 8.83s\n",
      "14:\tlearn: 0.4617732\ttotal: 453ms\tremaining: 8.61s\n",
      "15:\tlearn: 0.4556566\ttotal: 475ms\tremaining: 8.43s\n",
      "16:\tlearn: 0.4504852\ttotal: 495ms\tremaining: 8.25s\n",
      "17:\tlearn: 0.4437985\ttotal: 516ms\tremaining: 8.08s\n",
      "18:\tlearn: 0.4359126\ttotal: 536ms\tremaining: 7.93s\n",
      "19:\tlearn: 0.4296365\ttotal: 556ms\tremaining: 7.78s\n",
      "20:\tlearn: 0.4232111\ttotal: 574ms\tremaining: 7.63s\n",
      "21:\tlearn: 0.4164464\ttotal: 593ms\tremaining: 7.5s\n",
      "22:\tlearn: 0.4112212\ttotal: 613ms\tremaining: 7.38s\n",
      "23:\tlearn: 0.4048508\ttotal: 634ms\tremaining: 7.29s\n",
      "24:\tlearn: 0.4000945\ttotal: 654ms\tremaining: 7.19s\n",
      "25:\tlearn: 0.3932677\ttotal: 673ms\tremaining: 7.09s\n",
      "26:\tlearn: 0.3869770\ttotal: 691ms\tremaining: 6.99s\n",
      "27:\tlearn: 0.3816481\ttotal: 711ms\tremaining: 6.9s\n",
      "28:\tlearn: 0.3770215\ttotal: 730ms\tremaining: 6.82s\n",
      "29:\tlearn: 0.3705219\ttotal: 749ms\tremaining: 6.74s\n",
      "30:\tlearn: 0.3661638\ttotal: 768ms\tremaining: 6.66s\n",
      "31:\tlearn: 0.3613458\ttotal: 786ms\tremaining: 6.59s\n",
      "32:\tlearn: 0.3579391\ttotal: 806ms\tremaining: 6.53s\n",
      "33:\tlearn: 0.3537505\ttotal: 827ms\tremaining: 6.47s\n",
      "34:\tlearn: 0.3487426\ttotal: 848ms\tremaining: 6.42s\n",
      "35:\tlearn: 0.3452187\ttotal: 868ms\tremaining: 6.37s\n",
      "36:\tlearn: 0.3413647\ttotal: 888ms\tremaining: 6.31s\n",
      "37:\tlearn: 0.3374586\ttotal: 908ms\tremaining: 6.26s\n",
      "38:\tlearn: 0.3329712\ttotal: 927ms\tremaining: 6.2s\n",
      "39:\tlearn: 0.3294263\ttotal: 946ms\tremaining: 6.15s\n",
      "40:\tlearn: 0.3262293\ttotal: 966ms\tremaining: 6.1s\n",
      "41:\tlearn: 0.3217883\ttotal: 984ms\tremaining: 6.04s\n",
      "42:\tlearn: 0.3188784\ttotal: 1s\tremaining: 5.99s\n",
      "43:\tlearn: 0.3163216\ttotal: 1.02s\tremaining: 5.94s\n",
      "44:\tlearn: 0.3127493\ttotal: 1.04s\tremaining: 5.91s\n",
      "45:\tlearn: 0.3090315\ttotal: 1.06s\tremaining: 5.88s\n",
      "46:\tlearn: 0.3054672\ttotal: 1.08s\tremaining: 5.83s\n",
      "47:\tlearn: 0.3022662\ttotal: 1.1s\tremaining: 5.78s\n",
      "48:\tlearn: 0.2987730\ttotal: 1.12s\tremaining: 5.74s\n",
      "49:\tlearn: 0.2958445\ttotal: 1.14s\tremaining: 5.71s\n",
      "50:\tlearn: 0.2930056\ttotal: 1.16s\tremaining: 5.68s\n",
      "51:\tlearn: 0.2884757\ttotal: 1.19s\tremaining: 5.68s\n",
      "52:\tlearn: 0.2860685\ttotal: 1.21s\tremaining: 5.64s\n",
      "53:\tlearn: 0.2828892\ttotal: 1.23s\tremaining: 5.6s\n",
      "54:\tlearn: 0.2794561\ttotal: 1.25s\tremaining: 5.57s\n",
      "55:\tlearn: 0.2762543\ttotal: 1.27s\tremaining: 5.53s\n",
      "56:\tlearn: 0.2738913\ttotal: 1.29s\tremaining: 5.49s\n",
      "57:\tlearn: 0.2713431\ttotal: 1.31s\tremaining: 5.45s\n",
      "58:\tlearn: 0.2685417\ttotal: 1.33s\tremaining: 5.42s\n",
      "59:\tlearn: 0.2651911\ttotal: 1.34s\tremaining: 5.38s\n",
      "60:\tlearn: 0.2626729\ttotal: 1.37s\tremaining: 5.35s\n",
      "61:\tlearn: 0.2602102\ttotal: 1.38s\tremaining: 5.32s\n",
      "62:\tlearn: 0.2577963\ttotal: 1.4s\tremaining: 5.28s\n",
      "63:\tlearn: 0.2545774\ttotal: 1.42s\tremaining: 5.24s\n",
      "64:\tlearn: 0.2529532\ttotal: 1.44s\tremaining: 5.21s\n",
      "65:\tlearn: 0.2504059\ttotal: 1.46s\tremaining: 5.19s\n",
      "66:\tlearn: 0.2483128\ttotal: 1.48s\tremaining: 5.16s\n",
      "67:\tlearn: 0.2460925\ttotal: 1.5s\tremaining: 5.13s\n",
      "68:\tlearn: 0.2442188\ttotal: 1.53s\tremaining: 5.13s\n",
      "69:\tlearn: 0.2415434\ttotal: 1.55s\tremaining: 5.1s\n",
      "70:\tlearn: 0.2397040\ttotal: 1.57s\tremaining: 5.07s\n",
      "71:\tlearn: 0.2368664\ttotal: 1.59s\tremaining: 5.04s\n",
      "72:\tlearn: 0.2346314\ttotal: 1.61s\tremaining: 5.01s\n",
      "73:\tlearn: 0.2327882\ttotal: 1.63s\tremaining: 4.98s\n",
      "74:\tlearn: 0.2296930\ttotal: 1.65s\tremaining: 4.95s\n",
      "75:\tlearn: 0.2262484\ttotal: 1.67s\tremaining: 4.92s\n",
      "76:\tlearn: 0.2230889\ttotal: 1.69s\tremaining: 4.89s\n",
      "77:\tlearn: 0.2199431\ttotal: 1.71s\tremaining: 4.86s\n",
      "78:\tlearn: 0.2174436\ttotal: 1.73s\tremaining: 4.83s\n",
      "79:\tlearn: 0.2153788\ttotal: 1.75s\tremaining: 4.8s\n",
      "80:\tlearn: 0.2127493\ttotal: 1.76s\tremaining: 4.77s\n",
      "81:\tlearn: 0.2108037\ttotal: 1.78s\tremaining: 4.74s\n",
      "82:\tlearn: 0.2088165\ttotal: 1.8s\tremaining: 4.71s\n",
      "83:\tlearn: 0.2081882\ttotal: 1.82s\tremaining: 4.68s\n",
      "84:\tlearn: 0.2074278\ttotal: 1.84s\tremaining: 4.65s\n",
      "85:\tlearn: 0.2063342\ttotal: 1.86s\tremaining: 4.63s\n",
      "86:\tlearn: 0.2020390\ttotal: 1.88s\tremaining: 4.61s\n",
      "87:\tlearn: 0.2005215\ttotal: 1.9s\tremaining: 4.59s\n",
      "88:\tlearn: 0.1997379\ttotal: 1.92s\tremaining: 4.56s\n",
      "89:\tlearn: 0.1991374\ttotal: 1.94s\tremaining: 4.53s\n",
      "90:\tlearn: 0.1953588\ttotal: 1.96s\tremaining: 4.51s\n",
      "91:\tlearn: 0.1918334\ttotal: 1.98s\tremaining: 4.48s\n",
      "92:\tlearn: 0.1881299\ttotal: 2s\tremaining: 4.45s\n",
      "93:\tlearn: 0.1846046\ttotal: 2.03s\tremaining: 4.45s\n",
      "94:\tlearn: 0.1819481\ttotal: 2.05s\tremaining: 4.43s\n",
      "95:\tlearn: 0.1809563\ttotal: 2.07s\tremaining: 4.4s\n",
      "96:\tlearn: 0.1775399\ttotal: 2.09s\tremaining: 4.38s\n",
      "97:\tlearn: 0.1755210\ttotal: 2.11s\tremaining: 4.35s\n",
      "98:\tlearn: 0.1727150\ttotal: 2.13s\tremaining: 4.32s\n",
      "99:\tlearn: 0.1706591\ttotal: 2.15s\tremaining: 4.3s\n",
      "100:\tlearn: 0.1700834\ttotal: 2.17s\tremaining: 4.27s\n",
      "101:\tlearn: 0.1678885\ttotal: 2.19s\tremaining: 4.25s\n",
      "102:\tlearn: 0.1668910\ttotal: 2.21s\tremaining: 4.22s\n",
      "103:\tlearn: 0.1644661\ttotal: 2.23s\tremaining: 4.19s\n",
      "104:\tlearn: 0.1622788\ttotal: 2.25s\tremaining: 4.17s\n",
      "105:\tlearn: 0.1595333\ttotal: 2.27s\tremaining: 4.15s\n",
      "106:\tlearn: 0.1570941\ttotal: 2.29s\tremaining: 4.12s\n",
      "107:\tlearn: 0.1562488\ttotal: 2.31s\tremaining: 4.1s\n",
      "108:\tlearn: 0.1533879\ttotal: 2.33s\tremaining: 4.08s\n",
      "109:\tlearn: 0.1513582\ttotal: 2.35s\tremaining: 4.06s\n",
      "110:\tlearn: 0.1508600\ttotal: 2.37s\tremaining: 4.04s\n",
      "111:\tlearn: 0.1495239\ttotal: 2.39s\tremaining: 4.01s\n",
      "112:\tlearn: 0.1491218\ttotal: 2.41s\tremaining: 3.99s\n",
      "113:\tlearn: 0.1472229\ttotal: 2.43s\tremaining: 3.96s\n",
      "114:\tlearn: 0.1446029\ttotal: 2.45s\tremaining: 3.94s\n",
      "115:\tlearn: 0.1440700\ttotal: 2.47s\tremaining: 3.92s\n",
      "116:\tlearn: 0.1414558\ttotal: 2.49s\tremaining: 3.89s\n",
      "117:\tlearn: 0.1397216\ttotal: 2.51s\tremaining: 3.87s\n",
      "118:\tlearn: 0.1388532\ttotal: 2.53s\tremaining: 3.84s\n",
      "119:\tlearn: 0.1373929\ttotal: 2.55s\tremaining: 3.82s\n",
      "120:\tlearn: 0.1369839\ttotal: 2.57s\tremaining: 3.8s\n",
      "121:\tlearn: 0.1353632\ttotal: 2.59s\tremaining: 3.77s\n",
      "122:\tlearn: 0.1342725\ttotal: 2.61s\tremaining: 3.75s\n",
      "123:\tlearn: 0.1324833\ttotal: 2.63s\tremaining: 3.73s\n",
      "124:\tlearn: 0.1310132\ttotal: 2.65s\tremaining: 3.7s\n",
      "125:\tlearn: 0.1303403\ttotal: 2.67s\tremaining: 3.68s\n",
      "126:\tlearn: 0.1285035\ttotal: 2.69s\tremaining: 3.66s\n",
      "127:\tlearn: 0.1277458\ttotal: 2.7s\tremaining: 3.63s\n",
      "128:\tlearn: 0.1252276\ttotal: 2.72s\tremaining: 3.61s\n",
      "129:\tlearn: 0.1249059\ttotal: 2.74s\tremaining: 3.59s\n",
      "130:\tlearn: 0.1238979\ttotal: 2.76s\tremaining: 3.56s\n",
      "131:\tlearn: 0.1229388\ttotal: 2.78s\tremaining: 3.54s\n",
      "132:\tlearn: 0.1226254\ttotal: 2.8s\tremaining: 3.52s\n",
      "133:\tlearn: 0.1207600\ttotal: 2.82s\tremaining: 3.5s\n",
      "134:\tlearn: 0.1188035\ttotal: 2.84s\tremaining: 3.47s\n",
      "135:\tlearn: 0.1170454\ttotal: 2.86s\tremaining: 3.45s\n",
      "136:\tlearn: 0.1164164\ttotal: 2.88s\tremaining: 3.43s\n",
      "137:\tlearn: 0.1161449\ttotal: 2.9s\tremaining: 3.4s\n",
      "138:\tlearn: 0.1149312\ttotal: 2.92s\tremaining: 3.38s\n",
      "139:\tlearn: 0.1133160\ttotal: 2.94s\tremaining: 3.35s\n",
      "140:\tlearn: 0.1130670\ttotal: 2.96s\tremaining: 3.33s\n",
      "141:\tlearn: 0.1114778\ttotal: 2.98s\tremaining: 3.31s\n",
      "142:\tlearn: 0.1097122\ttotal: 3s\tremaining: 3.29s\n",
      "143:\tlearn: 0.1094768\ttotal: 3.01s\tremaining: 3.27s\n",
      "144:\tlearn: 0.1089086\ttotal: 3.03s\tremaining: 3.24s\n",
      "145:\tlearn: 0.1080997\ttotal: 3.05s\tremaining: 3.22s\n",
      "146:\tlearn: 0.1068643\ttotal: 3.07s\tremaining: 3.2s\n",
      "147:\tlearn: 0.1056827\ttotal: 3.09s\tremaining: 3.17s\n",
      "148:\tlearn: 0.1042352\ttotal: 3.11s\tremaining: 3.15s\n",
      "149:\tlearn: 0.1039725\ttotal: 3.13s\tremaining: 3.13s\n",
      "150:\tlearn: 0.1030643\ttotal: 3.15s\tremaining: 3.1s\n",
      "151:\tlearn: 0.1018956\ttotal: 3.17s\tremaining: 3.08s\n",
      "152:\tlearn: 0.1005530\ttotal: 3.19s\tremaining: 3.06s\n",
      "153:\tlearn: 0.1001446\ttotal: 3.21s\tremaining: 3.04s\n",
      "154:\tlearn: 0.0984683\ttotal: 3.23s\tremaining: 3.02s\n",
      "155:\tlearn: 0.0982206\ttotal: 3.25s\tremaining: 3s\n",
      "156:\tlearn: 0.0969596\ttotal: 3.26s\tremaining: 2.97s\n",
      "157:\tlearn: 0.0956068\ttotal: 3.28s\tremaining: 2.95s\n",
      "158:\tlearn: 0.0954109\ttotal: 3.3s\tremaining: 2.93s\n",
      "159:\tlearn: 0.0946470\ttotal: 3.32s\tremaining: 2.91s\n",
      "160:\tlearn: 0.0936736\ttotal: 3.34s\tremaining: 2.88s\n"
     ]
    },
    {
     "name": "stdout",
     "output_type": "stream",
     "text": [
      "161:\tlearn: 0.0931083\ttotal: 3.36s\tremaining: 2.86s\n",
      "162:\tlearn: 0.0927532\ttotal: 3.38s\tremaining: 2.84s\n",
      "163:\tlearn: 0.0914172\ttotal: 3.4s\tremaining: 2.82s\n",
      "164:\tlearn: 0.0909928\ttotal: 3.42s\tremaining: 2.8s\n",
      "165:\tlearn: 0.0907526\ttotal: 3.44s\tremaining: 2.77s\n",
      "166:\tlearn: 0.0901862\ttotal: 3.46s\tremaining: 2.75s\n",
      "167:\tlearn: 0.0898593\ttotal: 3.48s\tremaining: 2.73s\n",
      "168:\tlearn: 0.0885972\ttotal: 3.5s\tremaining: 2.71s\n",
      "169:\tlearn: 0.0876785\ttotal: 3.51s\tremaining: 2.69s\n",
      "170:\tlearn: 0.0875271\ttotal: 3.53s\tremaining: 2.66s\n",
      "171:\tlearn: 0.0865455\ttotal: 3.55s\tremaining: 2.64s\n",
      "172:\tlearn: 0.0856319\ttotal: 3.57s\tremaining: 2.62s\n",
      "173:\tlearn: 0.0846144\ttotal: 3.59s\tremaining: 2.6s\n",
      "174:\tlearn: 0.0836113\ttotal: 3.61s\tremaining: 2.58s\n",
      "175:\tlearn: 0.0834514\ttotal: 3.63s\tremaining: 2.56s\n",
      "176:\tlearn: 0.0831386\ttotal: 3.65s\tremaining: 2.54s\n",
      "177:\tlearn: 0.0823340\ttotal: 3.67s\tremaining: 2.52s\n",
      "178:\tlearn: 0.0818081\ttotal: 3.69s\tremaining: 2.49s\n",
      "179:\tlearn: 0.0806791\ttotal: 3.71s\tremaining: 2.47s\n",
      "180:\tlearn: 0.0805424\ttotal: 3.73s\tremaining: 2.45s\n",
      "181:\tlearn: 0.0804011\ttotal: 3.75s\tremaining: 2.43s\n",
      "182:\tlearn: 0.0797510\ttotal: 3.77s\tremaining: 2.41s\n",
      "183:\tlearn: 0.0788369\ttotal: 3.79s\tremaining: 2.39s\n",
      "184:\tlearn: 0.0787009\ttotal: 3.81s\tremaining: 2.37s\n",
      "185:\tlearn: 0.0783750\ttotal: 3.82s\tremaining: 2.34s\n",
      "186:\tlearn: 0.0781213\ttotal: 3.84s\tremaining: 2.32s\n",
      "187:\tlearn: 0.0775978\ttotal: 3.86s\tremaining: 2.3s\n",
      "188:\tlearn: 0.0772632\ttotal: 3.88s\tremaining: 2.28s\n",
      "189:\tlearn: 0.0770329\ttotal: 3.9s\tremaining: 2.26s\n",
      "190:\tlearn: 0.0765672\ttotal: 3.92s\tremaining: 2.24s\n",
      "191:\tlearn: 0.0753481\ttotal: 3.94s\tremaining: 2.21s\n",
      "192:\tlearn: 0.0743392\ttotal: 3.96s\tremaining: 2.19s\n",
      "193:\tlearn: 0.0741173\ttotal: 3.98s\tremaining: 2.17s\n",
      "194:\tlearn: 0.0739942\ttotal: 4s\tremaining: 2.15s\n",
      "195:\tlearn: 0.0732277\ttotal: 4.02s\tremaining: 2.13s\n",
      "196:\tlearn: 0.0723239\ttotal: 4.03s\tremaining: 2.11s\n",
      "197:\tlearn: 0.0722074\ttotal: 4.05s\tremaining: 2.09s\n",
      "198:\tlearn: 0.0712660\ttotal: 4.07s\tremaining: 2.07s\n",
      "199:\tlearn: 0.0709831\ttotal: 4.09s\tremaining: 2.05s\n",
      "200:\tlearn: 0.0701355\ttotal: 4.12s\tremaining: 2.03s\n",
      "201:\tlearn: 0.0695957\ttotal: 4.14s\tremaining: 2.01s\n",
      "202:\tlearn: 0.0694619\ttotal: 4.16s\tremaining: 1.99s\n",
      "203:\tlearn: 0.0687389\ttotal: 4.18s\tremaining: 1.97s\n",
      "204:\tlearn: 0.0683443\ttotal: 4.2s\tremaining: 1.95s\n",
      "205:\tlearn: 0.0678136\ttotal: 4.22s\tremaining: 1.93s\n",
      "206:\tlearn: 0.0673900\ttotal: 4.24s\tremaining: 1.9s\n",
      "207:\tlearn: 0.0670951\ttotal: 4.26s\tremaining: 1.88s\n",
      "208:\tlearn: 0.0669912\ttotal: 4.28s\tremaining: 1.86s\n",
      "209:\tlearn: 0.0664030\ttotal: 4.29s\tremaining: 1.84s\n",
      "210:\tlearn: 0.0656117\ttotal: 4.31s\tremaining: 1.82s\n",
      "211:\tlearn: 0.0646992\ttotal: 4.33s\tremaining: 1.8s\n",
      "212:\tlearn: 0.0645422\ttotal: 4.35s\tremaining: 1.78s\n",
      "213:\tlearn: 0.0639587\ttotal: 4.37s\tremaining: 1.76s\n",
      "214:\tlearn: 0.0633478\ttotal: 4.39s\tremaining: 1.74s\n",
      "215:\tlearn: 0.0631448\ttotal: 4.41s\tremaining: 1.72s\n",
      "216:\tlearn: 0.0627540\ttotal: 4.43s\tremaining: 1.69s\n",
      "217:\tlearn: 0.0624426\ttotal: 4.45s\tremaining: 1.67s\n",
      "218:\tlearn: 0.0623499\ttotal: 4.47s\tremaining: 1.65s\n",
      "219:\tlearn: 0.0622625\ttotal: 4.49s\tremaining: 1.63s\n",
      "220:\tlearn: 0.0616132\ttotal: 4.5s\tremaining: 1.61s\n",
      "221:\tlearn: 0.0615256\ttotal: 4.52s\tremaining: 1.59s\n",
      "222:\tlearn: 0.0613628\ttotal: 4.54s\tremaining: 1.57s\n",
      "223:\tlearn: 0.0612338\ttotal: 4.56s\tremaining: 1.55s\n",
      "224:\tlearn: 0.0611279\ttotal: 4.58s\tremaining: 1.53s\n",
      "225:\tlearn: 0.0608953\ttotal: 4.6s\tremaining: 1.51s\n",
      "226:\tlearn: 0.0603541\ttotal: 4.62s\tremaining: 1.49s\n",
      "227:\tlearn: 0.0597274\ttotal: 4.64s\tremaining: 1.47s\n",
      "228:\tlearn: 0.0595072\ttotal: 4.67s\tremaining: 1.45s\n",
      "229:\tlearn: 0.0588961\ttotal: 4.69s\tremaining: 1.43s\n",
      "230:\tlearn: 0.0586789\ttotal: 4.71s\tremaining: 1.41s\n",
      "231:\tlearn: 0.0580956\ttotal: 4.74s\tremaining: 1.39s\n",
      "232:\tlearn: 0.0577851\ttotal: 4.76s\tremaining: 1.37s\n",
      "233:\tlearn: 0.0577095\ttotal: 4.78s\tremaining: 1.35s\n",
      "234:\tlearn: 0.0575785\ttotal: 4.8s\tremaining: 1.33s\n",
      "235:\tlearn: 0.0572502\ttotal: 4.82s\tremaining: 1.31s\n",
      "236:\tlearn: 0.0567847\ttotal: 4.84s\tremaining: 1.29s\n",
      "237:\tlearn: 0.0562568\ttotal: 4.86s\tremaining: 1.27s\n",
      "238:\tlearn: 0.0557121\ttotal: 4.88s\tremaining: 1.25s\n",
      "239:\tlearn: 0.0554920\ttotal: 4.9s\tremaining: 1.22s\n",
      "240:\tlearn: 0.0550889\ttotal: 4.92s\tremaining: 1.2s\n",
      "241:\tlearn: 0.0549237\ttotal: 4.94s\tremaining: 1.18s\n",
      "242:\tlearn: 0.0546900\ttotal: 4.97s\tremaining: 1.16s\n",
      "243:\tlearn: 0.0541350\ttotal: 4.99s\tremaining: 1.15s\n",
      "244:\tlearn: 0.0538430\ttotal: 5.01s\tremaining: 1.13s\n",
      "245:\tlearn: 0.0532783\ttotal: 5.04s\tremaining: 1.1s\n",
      "246:\tlearn: 0.0532108\ttotal: 5.06s\tremaining: 1.09s\n",
      "247:\tlearn: 0.0526894\ttotal: 5.08s\tremaining: 1.07s\n",
      "248:\tlearn: 0.0526215\ttotal: 5.11s\tremaining: 1.05s\n",
      "249:\tlearn: 0.0524770\ttotal: 5.13s\tremaining: 1.03s\n",
      "250:\tlearn: 0.0519943\ttotal: 5.15s\tremaining: 1s\n",
      "251:\tlearn: 0.0518690\ttotal: 5.17s\tremaining: 985ms\n",
      "252:\tlearn: 0.0515215\ttotal: 5.19s\tremaining: 964ms\n",
      "253:\tlearn: 0.0514429\ttotal: 5.21s\tremaining: 943ms\n",
      "254:\tlearn: 0.0509098\ttotal: 5.23s\tremaining: 923ms\n",
      "255:\tlearn: 0.0506575\ttotal: 5.25s\tremaining: 903ms\n",
      "256:\tlearn: 0.0502360\ttotal: 5.28s\tremaining: 883ms\n",
      "257:\tlearn: 0.0501796\ttotal: 5.3s\tremaining: 863ms\n",
      "258:\tlearn: 0.0500210\ttotal: 5.33s\tremaining: 843ms\n",
      "259:\tlearn: 0.0495988\ttotal: 5.36s\tremaining: 824ms\n",
      "260:\tlearn: 0.0490638\ttotal: 5.38s\tremaining: 804ms\n",
      "261:\tlearn: 0.0489251\ttotal: 5.4s\tremaining: 784ms\n",
      "262:\tlearn: 0.0484795\ttotal: 5.42s\tremaining: 763ms\n",
      "263:\tlearn: 0.0483633\ttotal: 5.44s\tremaining: 742ms\n",
      "264:\tlearn: 0.0482048\ttotal: 5.46s\tremaining: 721ms\n",
      "265:\tlearn: 0.0481334\ttotal: 5.48s\tremaining: 700ms\n",
      "266:\tlearn: 0.0479404\ttotal: 5.5s\tremaining: 680ms\n",
      "267:\tlearn: 0.0476664\ttotal: 5.52s\tremaining: 659ms\n",
      "268:\tlearn: 0.0471246\ttotal: 5.54s\tremaining: 638ms\n",
      "269:\tlearn: 0.0467747\ttotal: 5.56s\tremaining: 617ms\n",
      "270:\tlearn: 0.0467213\ttotal: 5.57s\tremaining: 597ms\n",
      "271:\tlearn: 0.0463670\ttotal: 5.59s\tremaining: 576ms\n",
      "272:\tlearn: 0.0463165\ttotal: 5.62s\tremaining: 555ms\n",
      "273:\tlearn: 0.0459276\ttotal: 5.64s\tremaining: 535ms\n",
      "274:\tlearn: 0.0455596\ttotal: 5.66s\tremaining: 515ms\n",
      "275:\tlearn: 0.0454659\ttotal: 5.69s\tremaining: 495ms\n",
      "276:\tlearn: 0.0454160\ttotal: 5.71s\tremaining: 474ms\n",
      "277:\tlearn: 0.0453241\ttotal: 5.74s\tremaining: 454ms\n",
      "278:\tlearn: 0.0449246\ttotal: 5.76s\tremaining: 434ms\n",
      "279:\tlearn: 0.0448803\ttotal: 5.78s\tremaining: 413ms\n",
      "280:\tlearn: 0.0447864\ttotal: 5.8s\tremaining: 392ms\n",
      "281:\tlearn: 0.0447277\ttotal: 5.82s\tremaining: 372ms\n",
      "282:\tlearn: 0.0443744\ttotal: 5.84s\tremaining: 351ms\n",
      "283:\tlearn: 0.0440621\ttotal: 5.86s\tremaining: 330ms\n",
      "284:\tlearn: 0.0439399\ttotal: 5.88s\tremaining: 309ms\n",
      "285:\tlearn: 0.0437452\ttotal: 5.9s\tremaining: 289ms\n",
      "286:\tlearn: 0.0435998\ttotal: 5.92s\tremaining: 268ms\n",
      "287:\tlearn: 0.0433649\ttotal: 5.94s\tremaining: 247ms\n",
      "288:\tlearn: 0.0430496\ttotal: 5.96s\tremaining: 227ms\n",
      "289:\tlearn: 0.0429905\ttotal: 5.98s\tremaining: 206ms\n",
      "290:\tlearn: 0.0425583\ttotal: 6s\tremaining: 186ms\n",
      "291:\tlearn: 0.0424791\ttotal: 6.03s\tremaining: 165ms\n",
      "292:\tlearn: 0.0421687\ttotal: 6.05s\tremaining: 145ms\n",
      "293:\tlearn: 0.0418651\ttotal: 6.07s\tremaining: 124ms\n",
      "294:\tlearn: 0.0418262\ttotal: 6.1s\tremaining: 103ms\n",
      "295:\tlearn: 0.0417520\ttotal: 6.12s\tremaining: 82.7ms\n",
      "296:\tlearn: 0.0417125\ttotal: 6.14s\tremaining: 62.1ms\n",
      "297:\tlearn: 0.0413036\ttotal: 6.16s\tremaining: 41.4ms\n",
      "298:\tlearn: 0.0411889\ttotal: 6.18s\tremaining: 20.7ms\n",
      "299:\tlearn: 0.0409632\ttotal: 6.2s\tremaining: 0us\n"
     ]
    }
   ],
   "source": [
    "model = CatBoostClassifier(iterations=300, learning_rate=0.1, max_depth = 8)\n",
    "t0 = time.time()\n",
    "model.fit(tfidf_vect_train, Y_train)\n",
    "t1 = time.time()\n",
    "cat_Ypred = model.predict(tfidf_vect_test)\n",
    "t2 = time.time()\n",
    "cat_time_linear_train = t1-t0\n",
    "cat_time_linear_predict = t2-t1\n",
    "cat_f1Score = f1_score(Y_test, cat_Ypred, average = \"weighted\")"
   ]
  },
  {
   "cell_type": "code",
   "execution_count": 15,
   "id": "958c9a23",
   "metadata": {},
   "outputs": [
    {
     "name": "stdout",
     "output_type": "stream",
     "text": [
      "Training time: 7.673398s; Prediction time: 0.039926s\n"
     ]
    }
   ],
   "source": [
    "print(\"Training time: %fs; Prediction time: %fs\" % (cat_time_linear_train, cat_time_linear_predict))"
   ]
  },
  {
   "cell_type": "code",
   "execution_count": 16,
   "id": "8340f820",
   "metadata": {},
   "outputs": [
    {
     "data": {
      "text/plain": [
       "<AxesSubplot:>"
      ]
     },
     "execution_count": 16,
     "metadata": {},
     "output_type": "execute_result"
    },
    {
     "data": {
      "image/png": "[encoded data removed]",
      "text/plain": [
       "<Figure size 432x288 with 2 Axes>"
      ]
     },
     "metadata": {
      "needs_background": "light"
     },
     "output_type": "display_data"
    }
   ],
   "source": [
    "cf_matrix = metrics.confusion_matrix(Y_test, cat_Ypred)\n",
    "group_names = ['True Neg','False Pos','False Neg','True Pos']\n",
    "# group_counts = ['{0:0.0f}'.format(value) for value in\n",
    "#                 cf_matrix.flatten()]\n",
    "group_percentages = ['{0:.2%}'.format(value) for value in\n",
    "                     cf_matrix.flatten()/np.sum(cf_matrix)]\n",
    "labels = [f\"{v1}\\n{v3}\" for v1, v3 in\n",
    "          zip(group_names,group_percentages)]\n",
    "labels = np.asarray(labels).reshape(2,2)\n",
    "sns.heatmap(cf_matrix, annot=labels, fmt='', cmap='Blues')"
   ]
  },
  {
   "cell_type": "code",
   "execution_count": 17,
   "id": "56a2edeb",
   "metadata": {},
   "outputs": [
    {
     "data": {
      "text/plain": [
       "0.8199279711884754"
      ]
     },
     "execution_count": 17,
     "metadata": {},
     "output_type": "execute_result"
    }
   ],
   "source": [
    "cat_f1Score"
   ]
  },
  {
   "cell_type": "code",
   "execution_count": 18,
   "id": "58358d8e",
   "metadata": {},
   "outputs": [],
   "source": [
    "model = svm.SVC(C = 10)\n",
    "t0 = time.time()\n",
    "model.fit(tfidf_vect_train, Y_train)\n",
    "t1 = time.time()\n",
    "svc_Ypred = model.predict(tfidf_vect_test)\n",
    "t2 = time.time()\n",
    "svc_time_linear_train = t1-t0\n",
    "svc_time_linear_predict = t2-t1\n",
    "svc_f1Score = f1_score(Y_test, svc_Ypred, average = \"weighted\")"
   ]
  },
  {
   "cell_type": "code",
   "execution_count": 19,
   "id": "4e01c2fb",
   "metadata": {},
   "outputs": [
    {
     "name": "stdout",
     "output_type": "stream",
     "text": [
      "Training time: 0.198468s; Prediction time: 0.063861s\n"
     ]
    }
   ],
   "source": [
    "print(\"Training time: %fs; Prediction time: %fs\" % (svc_time_linear_train, svc_time_linear_predict))"
   ]
  },
  {
   "cell_type": "code",
   "execution_count": 20,
   "id": "bb2998c7",
   "metadata": {},
   "outputs": [
    {
     "data": {
      "text/plain": [
       "0.8849971249281232"
      ]
     },
     "execution_count": 20,
     "metadata": {},
     "output_type": "execute_result"
    }
   ],
   "source": [
    "svc_f1Score"
   ]
  },
  {
   "cell_type": "code",
   "execution_count": 21,
   "id": "f9698a79",
   "metadata": {},
   "outputs": [
    {
     "data": {
      "text/plain": [
       "<AxesSubplot:>"
      ]
     },
     "execution_count": 21,
     "metadata": {},
     "output_type": "execute_result"
    },
    {
     "data": {
      "image/png": "[encoded data removed]",
      "text/plain": [
       "<Figure size 432x288 with 2 Axes>"
      ]
     },
     "metadata": {
      "needs_background": "light"
     },
     "output_type": "display_data"
    }
   ],
   "source": [
    "cf_matrix = metrics.confusion_matrix(Y_test, svc_Ypred)\n",
    "group_names = ['True Neg','False Pos','False Neg','True Pos']\n",
    "# group_counts = ['{0:0.0f}'.format(value) for value in\n",
    "#                 cf_matrix.flatten()]\n",
    "group_percentages = ['{0:.2%}'.format(value) for value in\n",
    "                     cf_matrix.flatten()/np.sum(cf_matrix)]\n",
    "labels = [f\"{v1}\\n{v3}\" for v1, v3 in\n",
    "          zip(group_names,group_percentages)]\n",
    "labels = np.asarray(labels).reshape(2,2)\n",
    "sns.heatmap(cf_matrix, annot=labels, fmt='', cmap='Blues')"
   ]
  },
  {
   "cell_type": "code",
   "execution_count": 22,
   "id": "ee6e54f5",
   "metadata": {},
   "outputs": [],
   "source": [
    "f1_scores = [svc_f1Score, cat_f1Score, xg_f1Score]\n",
    "train_time = [svc_time_linear_train, cat_time_linear_train, xg_time_linear_train]\n",
    "predict_time = [svc_time_linear_predict, cat_time_linear_predict, xg_time_linear_predict]\n",
    "algo_name = [\"SVC\", \"CatBoost\", \"XGBoost\"]"
   ]
  },
  {
   "cell_type": "code",
   "execution_count": 23,
   "id": "90a1017f",
   "metadata": {},
   "outputs": [
    {
     "data": {
      "image/png": "[encoded data removed]",
      "text/plain": [
       "<Figure size 576x216 with 1 Axes>"
      ]
     },
     "metadata": {
      "needs_background": "light"
     },
     "output_type": "display_data"
    }
   ],
   "source": [
    "f1_scores = [svc_f1Score, cat_f1Score, xg_f1Score]\n",
    "train_time = [svc_time_linear_train, cat_time_linear_train, xg_time_linear_train]\n",
    "predict_time = [svc_time_linear_predict, cat_time_linear_predict, xg_time_linear_predict]\n",
    "algo_name = [\"SVC\", \"CatBoost\", \"XGBoost\"]\n",
    "\n",
    "import seaborn as sns\n",
    "import matplotlib.pyplot as plt\n",
    "plt.figure(figsize=(8,3))\n",
    "sns.set_theme(style = \"whitegrid\")\n",
    "ax = sns.pointplot(x = algo_name, y = f1_scores)\n",
    "ax.set_xticklabels(ax.get_xticklabels() , rotation = 90)\n",
    "plt.show()"
   ]
  },
  {
   "cell_type": "code",
   "execution_count": 24,
   "id": "6972848a",
   "metadata": {},
   "outputs": [
    {
     "data": {
      "image/png": "[encoded data removed]",
      "text/plain": [
       "<Figure size 576x216 with 1 Axes>"
      ]
     },
     "metadata": {},
     "output_type": "display_data"
    }
   ],
   "source": [
    "plt.figure(figsize=(8,3))\n",
    "sns.set_theme(style = \"whitegrid\")\n",
    "bx = sns.pointplot(x = algo_name, y = train_time)\n",
    "bx.set_xticklabels(ax.get_xticklabels() , rotation = 90)\n",
    "plt.show()"
   ]
  },
  {
   "cell_type": "code",
   "execution_count": 25,
   "id": "4f11e26f",
   "metadata": {},
   "outputs": [
    {
     "data": {
      "image/png": "[encoded data removed]",
      "text/plain": [
       "<Figure size 576x216 with 1 Axes>"
      ]
     },
     "metadata": {},
     "output_type": "display_data"
    }
   ],
   "source": [
    "plt.figure(figsize=(8,3))\n",
    "sns.set_theme(style = \"whitegrid\")\n",
    "cx = sns.pointplot(x = algo_name, y = predict_time)\n",
    "cx.set_xticklabels(ax.get_xticklabels() , rotation = 90)\n",
    "plt.show()"
   ]
  },
  {
   "cell_type": "code",
   "execution_count": null,
   "id": "9c0c7d69",
   "metadata": {},
   "outputs": [],
   "source": []
  }
 ],
 "metadata": {
  "kernelspec": {
   "display_name": "Python (tf)",
   "language": "python",
   "name": "tf"
  },
  "language_info": {
   "codemirror_mode": {
    "name": "ipython",
    "version": 3
   },
   "file_extension": ".py",
   "mimetype": "text/x-python",
   "name": "python",
   "nbconvert_exporter": "python",
   "pygments_lexer": "ipython3",
   "version": "3.9.7"
  }
 },
 "nbformat": 4,
 "nbformat_minor": 5
}
